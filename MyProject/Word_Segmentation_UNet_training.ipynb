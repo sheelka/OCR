{
  "nbformat": 4,
  "nbformat_minor": 0,
  "metadata": {
    "colab": {
      "provenance": [],
      "collapsed_sections": []
    },
    "kernelspec": {
      "display_name": "Python 3",
      "name": "python3"
    },
    "accelerator": "GPU"
  },
  "cells": [
    {
      "cell_type": "code",
      "metadata": {
        "id": "o3XRjMM3hWI5",
        "colab": {
          "base_uri": "https://localhost:8080/"
        },
        "outputId": "ed8af25b-ca52-4492-cf41-9510c39cc72f"
      },
      "source": [
        "%tensorflow_version 1.x"
      ],
      "execution_count": null,
      "outputs": [
        {
          "output_type": "stream",
          "name": "stdout",
          "text": [
            "WARNING: Tensorflow 1 is deprecated, and support will be removed on August 1, 2022.\n",
            "After that, `%tensorflow_version 1.x` will throw an error.\n",
            "\n",
            "Your notebook should be updated to use Tensorflow 2.\n",
            "See the guide at https://www.tensorflow.org/guide/migrate#migrate-from-tensorflow-1x-to-tensorflow-2.\n",
            "\n",
            "TensorFlow 1.x selected.\n"
          ]
        }
      ]
    },
    {
      "cell_type": "code",
      "source": [
        "from google.colab import drive\n",
        "drive.mount('/content/gdrive')"
      ],
      "metadata": {
        "colab": {
          "base_uri": "https://localhost:8080/"
        },
        "id": "vJSF6WjnLToL",
        "outputId": "a55975ff-dd2f-403b-b802-59758f97a3f2"
      },
      "execution_count": null,
      "outputs": [
        {
          "output_type": "stream",
          "name": "stdout",
          "text": [
            "Mounted at /content/gdrive\n"
          ]
        }
      ]
    },
    {
      "cell_type": "code",
      "metadata": {
        "id": "YIsSOBLfYyt0",
        "colab": {
          "base_uri": "https://localhost:8080/"
        },
        "outputId": "27598581-8324-4b00-8f6d-438198d894c1"
      },
      "source": [
        "#Importing required libraries.\n",
        "import numpy as np\n",
        "import matplotlib.pyplot as plt\n",
        "import cv2\n",
        "import os\n",
        "#from tensorflow.keras.layers import Conv2D,MaxPooling2D,Activation,Conv2DTranspose,Input,Add,UpSampling2D,Dropout,concatenate\n",
        "from keras.layers import *\n",
        "from keras.models import Model\n",
        "from keras.optimizers import Adam\n",
        "import random\n",
        "import math"
      ],
      "execution_count": null,
      "outputs": [
        {
          "output_type": "stream",
          "name": "stderr",
          "text": [
            "Using TensorFlow backend.\n"
          ]
        }
      ]
    },
    {
      "cell_type": "code",
      "source": [
        "image_list=os.listdir('/content/gdrive/MyDrive/Colab Notebooks/WordSegData2/Dataset1/img')\n",
        "image_list=[filename.split(\".\")[0]for filename in image_list]\n",
        "\n",
        "print(image_list[0])"
      ],
      "metadata": {
        "colab": {
          "base_uri": "https://localhost:8080/"
        },
        "id": "VJBRsz2EMNaI",
        "outputId": "ad1b96eb-0f7f-41ca-990b-dd817fccaee7"
      },
      "execution_count": null,
      "outputs": [
        {
          "output_type": "stream",
          "name": "stdout",
          "text": [
            "lineD16\n"
          ]
        }
      ]
    },
    {
      "cell_type": "code",
      "source": [
        "def visualize(img,seg_img, title1, title2):\n",
        "    \"\"\"\n",
        "    Visualizes image\n",
        "    \"\"\"\n",
        "    plt.figure(figsize=(20,20))\n",
        "    plt.subplot(1,2,1)\n",
        "    plt.imshow(img)\n",
        "    plt.title(title1)\n",
        "    plt.subplot(1,2,2)\n",
        "    plt.imshow(seg_img,cmap='gray')\n",
        "    plt.title(title2)\n",
        "    plt.show()\n",
        "\n",
        "def roundup(x):\n",
        "    return int(math.ceil(x / 10.0)) * 10\n",
        "    \n",
        "def get_segmented_img(img,n_classes):\n",
        "    seg_labels=np.zeros((512,512,1))\n",
        "    img=cv2.resize(img,(512,512))\n",
        "    img=img[:,:,0]\n",
        "    cl_list=[0,24]\n",
        "    seg_labels[:,:,0]=(img!=0).astype(int)\n",
        "    return seg_labels\n",
        "\n",
        "\n",
        "def pad_img(img):\n",
        "\told_h,old_w=img.shape[0],img.shape[1]\n",
        "\n",
        "\t#Pad the height.\n",
        "\n",
        "\t#If height is less than 512 then pad to 512\n",
        "\tif old_h<512:\n",
        "\t\tto_pad=np.ones((512-old_h,old_w))*255\n",
        "\t\timg=np.concatenate((img,to_pad))\n",
        "\t\tnew_height=512\n",
        "\telse:\n",
        "\t#If height >512 then pad to nearest 10.\n",
        "\t\tto_pad=np.ones((roundup(old_h)-old_h,old_w))*255\n",
        "\t\timg=np.concatenate((img,to_pad))\n",
        "\t\tnew_height=roundup(old_h)\n",
        "\n",
        "\t#Pad the width.\n",
        "\tif old_w<512:\n",
        "\t\tto_pad=np.ones((new_height,512-old_w))*255\n",
        "\t\timg=np.concatenate((img,to_pad),axis=1)\n",
        "\t\tnew_width=512\n",
        "\telse:\n",
        "\t\tto_pad=np.ones((new_height,roundup(old_w)-old_w))*255\n",
        "\t\timg=np.concatenate((img,to_pad),axis=1)\n",
        "\t\tnew_width=roundup(old_w)-old_w\n",
        "\treturn img\n",
        "\n",
        "\n",
        "def pad_seg(img):\n",
        "\told_h,old_w=img.shape[0],img.shape[1]\n",
        "\n",
        "\t#Pad the height.\n",
        "\n",
        "\t#If height is less than 512 then pad to 512\n",
        "\tif old_h<512:\n",
        "\t\tto_pad=np.zeros((512-old_h,old_w))\n",
        "\t\timg=np.concatenate((img,to_pad))\n",
        "\t\tnew_height=512\n",
        "\telse:\n",
        "\t#If height >512 then pad to nearest 10.\n",
        "\t\tto_pad=np.zeros((roundup(old_h)-old_h,old_w))\n",
        "\t\timg=np.concatenate((img,to_pad))\n",
        "\t\tnew_height=roundup(old_h)\n",
        "\n",
        "\t#Pad the width.\n",
        "\tif old_w<512:\n",
        "\t\tto_pad=np.zeros((new_height,512-old_w))\n",
        "\t\timg=np.concatenate((img,to_pad),axis=1)\n",
        "\t\tnew_width=512\n",
        "\telse:\n",
        "\t\tto_pad=np.zeros((new_height,roundup(old_w)-old_w))\n",
        "\t\timg=np.concatenate((img,to_pad),axis=1)\n",
        "\t\tnew_width=roundup(old_w)-old_w\n",
        "\treturn img\n",
        "\n",
        "\n",
        "\n",
        "def batch_generator(filelist,n_classes,batch_size):\n",
        "  while True:\n",
        "    X=[]\n",
        "    Y=[]\n",
        "    for i in range(batch_size):\n",
        "      fn=random.choice(filelist)\n",
        "      img=cv2.imread(f'/content/gdrive/MyDrive/Colab Notebooks/WordSegData2/Dataset1/img/{fn}.jpg',0)\n",
        "      img=pad_img(img)\n",
        "      ret,img=cv2.threshold(img,150,255,cv2.THRESH_BINARY_INV)\n",
        "      \n",
        "\n",
        "      img=cv2.resize(img,(512,512))\n",
        "      img=np.expand_dims(img,axis=-1)\n",
        "      #img = np.stack((img,)*3, axis=-1)\n",
        "      img=img/255\n",
        "\n",
        "      seg=cv2.imread(f'/content/gdrive/MyDrive/Colab Notebooks/WordSegData2/Dataset1/mask/{fn}_mask.png',0)\n",
        "      seg=pad_seg(seg)\n",
        "      seg=cv2.resize(seg,(512,512))\n",
        "      seg = np.stack((seg,)*3, axis=-1)\n",
        "      seg=get_segmented_img(seg,n_classes)\n",
        "\n",
        "      X.append(img)\n",
        "      Y.append(seg)\n",
        "    yield np.array(X),np.array(Y)\n"
      ],
      "metadata": {
        "id": "BeNEvaVyMJ_S"
      },
      "execution_count": null,
      "outputs": []
    },
    {
      "cell_type": "code",
      "metadata": {
        "id": "nnpYHTJWYyuI"
      },
      "source": [
        "random.shuffle(image_list)\n",
        "file_train=image_list[0:int(0.75*len(image_list))]\n",
        "file_test=image_list[int(0.75*len(image_list)):]"
      ],
      "execution_count": null,
      "outputs": []
    },
    {
      "cell_type": "code",
      "metadata": {
        "id": "vAAxwqILKDrx",
        "colab": {
          "base_uri": "https://localhost:8080/"
        },
        "outputId": "fd70748e-2594-41f8-cc85-be2be89b308c"
      },
      "source": [
        "def unet(pretrained_weights = None,input_size = (512,512,1)):\n",
        "    inputs = Input(input_size)\n",
        "    conv1 = Conv2D(64, 3, activation = 'relu', padding = 'same', kernel_initializer = 'he_normal')(inputs)\n",
        "    conv1 = Conv2D(64, 3, activation = 'relu', padding = 'same', kernel_initializer = 'he_normal')(conv1)\n",
        "    pool1 = MaxPooling2D(pool_size=(2, 2))(conv1)\n",
        "    conv2 = Conv2D(128, 3, activation = 'relu', padding = 'same', kernel_initializer = 'he_normal')(pool1)\n",
        "    conv2 = Conv2D(128, 3, activation = 'relu', padding = 'same', kernel_initializer = 'he_normal')(conv2)\n",
        "    pool2 = MaxPooling2D(pool_size=(2, 2))(conv2)\n",
        "    conv3 = Conv2D(256, 3, activation = 'relu', padding = 'same', kernel_initializer = 'he_normal')(pool2)\n",
        "    conv3 = Conv2D(256, 3, activation = 'relu', padding = 'same', kernel_initializer = 'he_normal')(conv3)\n",
        "    pool3 = MaxPooling2D(pool_size=(2, 2))(conv3)\n",
        "    conv4 = Conv2D(512, 3, activation = 'relu', padding = 'same', kernel_initializer = 'he_normal')(pool3)\n",
        "    conv4 = Conv2D(512, 3, activation = 'relu', padding = 'same', kernel_initializer = 'he_normal')(conv4)\n",
        "    drop4 = Dropout(0.5)(conv4)\n",
        "    pool4 = MaxPooling2D(pool_size=(2, 2))(drop4)\n",
        "\n",
        "    conv5 = Conv2D(1024, 3, activation = 'relu', padding = 'same', kernel_initializer = 'he_normal')(pool4)\n",
        "    conv5 = Conv2D(1024, 3, activation = 'relu', padding = 'same', kernel_initializer = 'he_normal')(conv5)\n",
        "    drop5 = Dropout(0.5)(conv5)\n",
        "\n",
        "    up6 = Conv2D(512, 2, activation = 'relu', padding = 'same', kernel_initializer = 'he_normal')(UpSampling2D(size = (2,2))(drop5))\n",
        "    merge6 = concatenate([drop4,up6], axis = 3)\n",
        "    conv6 = Conv2D(512, 3, activation = 'relu', padding = 'same', kernel_initializer = 'he_normal')(merge6)\n",
        "    conv6 = Conv2D(512, 3, activation = 'relu', padding = 'same', kernel_initializer = 'he_normal')(conv6)\n",
        "\n",
        "    up7 = Conv2D(256, 2, activation = 'relu', padding = 'same', kernel_initializer = 'he_normal')(UpSampling2D(size = (2,2))(conv6))\n",
        "    merge7 = concatenate([conv3,up7], axis = 3)\n",
        "    conv7 = Conv2D(256, 3, activation = 'relu', padding = 'same', kernel_initializer = 'he_normal')(merge7)\n",
        "    conv7 = Conv2D(256, 3, activation = 'relu', padding = 'same', kernel_initializer = 'he_normal')(conv7)\n",
        "\n",
        "    up8 = Conv2D(128, 2, activation = 'relu', padding = 'same', kernel_initializer = 'he_normal')(UpSampling2D(size = (2,2))(conv7))\n",
        "    merge8 = concatenate([conv2,up8], axis = 3)\n",
        "    conv8 = Conv2D(128, 3, activation = 'relu', padding = 'same', kernel_initializer = 'he_normal')(merge8)\n",
        "    conv8 = Conv2D(128, 3, activation = 'relu', padding = 'same', kernel_initializer = 'he_normal')(conv8)\n",
        "\n",
        "    up9 = Conv2D(64, 2, activation = 'relu', padding = 'same', kernel_initializer = 'he_normal')(UpSampling2D(size = (2,2))(conv8))\n",
        "    merge9 = concatenate([conv1,up9], axis = 3)\n",
        "    conv9 = Conv2D(64, 3, activation = 'relu', padding = 'same', kernel_initializer = 'he_normal')(merge9)\n",
        "    conv9 = Conv2D(64, 3, activation = 'relu', padding = 'same', kernel_initializer = 'he_normal')(conv9)\n",
        "    conv9 = Conv2D(2, 3, activation = 'relu', padding = 'same', kernel_initializer = 'he_normal')(conv9)\n",
        "    conv10 = Conv2D(1, 1, activation = 'sigmoid')(conv9)\n",
        "\n",
        "    model = Model(inputs,conv10)\n",
        "\n",
        "    model.compile(optimizer = Adam(lr = 1e-4), loss = 'binary_crossentropy', metrics = ['accuracy'])\n",
        "    \n",
        "    #model.summary()\n",
        "\n",
        "    if(pretrained_weights):\n",
        "    \tmodel.load_weights(pretrained_weights)\n",
        "\n",
        "    return model\n",
        "\n",
        "model=unet()\n",
        "model.summary()\n",
        "\n"
      ],
      "execution_count": null,
      "outputs": [
        {
          "output_type": "stream",
          "name": "stdout",
          "text": [
            "WARNING:tensorflow:From /tensorflow-1.15.2/python3.7/tensorflow_core/python/ops/resource_variable_ops.py:1630: calling BaseResourceVariable.__init__ (from tensorflow.python.ops.resource_variable_ops) with constraint is deprecated and will be removed in a future version.\n",
            "Instructions for updating:\n",
            "If using Keras pass *_constraint arguments to layers.\n"
          ]
        },
        {
          "output_type": "stream",
          "name": "stderr",
          "text": [
            "WARNING:tensorflow:From /tensorflow-1.15.2/python3.7/tensorflow_core/python/ops/resource_variable_ops.py:1630: calling BaseResourceVariable.__init__ (from tensorflow.python.ops.resource_variable_ops) with constraint is deprecated and will be removed in a future version.\n",
            "Instructions for updating:\n",
            "If using Keras pass *_constraint arguments to layers.\n"
          ]
        },
        {
          "output_type": "stream",
          "name": "stdout",
          "text": [
            "WARNING:tensorflow:From /tensorflow-1.15.2/python3.7/keras/backend/tensorflow_backend.py:4070: The name tf.nn.max_pool is deprecated. Please use tf.nn.max_pool2d instead.\n",
            "\n"
          ]
        },
        {
          "output_type": "stream",
          "name": "stderr",
          "text": [
            "WARNING:tensorflow:From /tensorflow-1.15.2/python3.7/keras/backend/tensorflow_backend.py:4070: The name tf.nn.max_pool is deprecated. Please use tf.nn.max_pool2d instead.\n",
            "\n"
          ]
        },
        {
          "output_type": "stream",
          "name": "stdout",
          "text": [
            "WARNING:tensorflow:From /tensorflow-1.15.2/python3.7/tensorflow_core/python/ops/nn_impl.py:183: where (from tensorflow.python.ops.array_ops) is deprecated and will be removed in a future version.\n",
            "Instructions for updating:\n",
            "Use tf.where in 2.0, which has the same broadcast rule as np.where\n"
          ]
        },
        {
          "output_type": "stream",
          "name": "stderr",
          "text": [
            "WARNING:tensorflow:From /tensorflow-1.15.2/python3.7/tensorflow_core/python/ops/nn_impl.py:183: where (from tensorflow.python.ops.array_ops) is deprecated and will be removed in a future version.\n",
            "Instructions for updating:\n",
            "Use tf.where in 2.0, which has the same broadcast rule as np.where\n"
          ]
        },
        {
          "output_type": "stream",
          "name": "stdout",
          "text": [
            "Model: \"model_1\"\n",
            "__________________________________________________________________________________________________\n",
            "Layer (type)                    Output Shape         Param #     Connected to                     \n",
            "==================================================================================================\n",
            "input_1 (InputLayer)            (None, 512, 512, 1)  0                                            \n",
            "__________________________________________________________________________________________________\n",
            "conv2d_1 (Conv2D)               (None, 512, 512, 64) 640         input_1[0][0]                    \n",
            "__________________________________________________________________________________________________\n",
            "conv2d_2 (Conv2D)               (None, 512, 512, 64) 36928       conv2d_1[0][0]                   \n",
            "__________________________________________________________________________________________________\n",
            "max_pooling2d_1 (MaxPooling2D)  (None, 256, 256, 64) 0           conv2d_2[0][0]                   \n",
            "__________________________________________________________________________________________________\n",
            "conv2d_3 (Conv2D)               (None, 256, 256, 128 73856       max_pooling2d_1[0][0]            \n",
            "__________________________________________________________________________________________________\n",
            "conv2d_4 (Conv2D)               (None, 256, 256, 128 147584      conv2d_3[0][0]                   \n",
            "__________________________________________________________________________________________________\n",
            "max_pooling2d_2 (MaxPooling2D)  (None, 128, 128, 128 0           conv2d_4[0][0]                   \n",
            "__________________________________________________________________________________________________\n",
            "conv2d_5 (Conv2D)               (None, 128, 128, 256 295168      max_pooling2d_2[0][0]            \n",
            "__________________________________________________________________________________________________\n",
            "conv2d_6 (Conv2D)               (None, 128, 128, 256 590080      conv2d_5[0][0]                   \n",
            "__________________________________________________________________________________________________\n",
            "max_pooling2d_3 (MaxPooling2D)  (None, 64, 64, 256)  0           conv2d_6[0][0]                   \n",
            "__________________________________________________________________________________________________\n",
            "conv2d_7 (Conv2D)               (None, 64, 64, 512)  1180160     max_pooling2d_3[0][0]            \n",
            "__________________________________________________________________________________________________\n",
            "conv2d_8 (Conv2D)               (None, 64, 64, 512)  2359808     conv2d_7[0][0]                   \n",
            "__________________________________________________________________________________________________\n",
            "dropout_1 (Dropout)             (None, 64, 64, 512)  0           conv2d_8[0][0]                   \n",
            "__________________________________________________________________________________________________\n",
            "max_pooling2d_4 (MaxPooling2D)  (None, 32, 32, 512)  0           dropout_1[0][0]                  \n",
            "__________________________________________________________________________________________________\n",
            "conv2d_9 (Conv2D)               (None, 32, 32, 1024) 4719616     max_pooling2d_4[0][0]            \n",
            "__________________________________________________________________________________________________\n",
            "conv2d_10 (Conv2D)              (None, 32, 32, 1024) 9438208     conv2d_9[0][0]                   \n",
            "__________________________________________________________________________________________________\n",
            "dropout_2 (Dropout)             (None, 32, 32, 1024) 0           conv2d_10[0][0]                  \n",
            "__________________________________________________________________________________________________\n",
            "up_sampling2d_1 (UpSampling2D)  (None, 64, 64, 1024) 0           dropout_2[0][0]                  \n",
            "__________________________________________________________________________________________________\n",
            "conv2d_11 (Conv2D)              (None, 64, 64, 512)  2097664     up_sampling2d_1[0][0]            \n",
            "__________________________________________________________________________________________________\n",
            "concatenate_1 (Concatenate)     (None, 64, 64, 1024) 0           dropout_1[0][0]                  \n",
            "                                                                 conv2d_11[0][0]                  \n",
            "__________________________________________________________________________________________________\n",
            "conv2d_12 (Conv2D)              (None, 64, 64, 512)  4719104     concatenate_1[0][0]              \n",
            "__________________________________________________________________________________________________\n",
            "conv2d_13 (Conv2D)              (None, 64, 64, 512)  2359808     conv2d_12[0][0]                  \n",
            "__________________________________________________________________________________________________\n",
            "up_sampling2d_2 (UpSampling2D)  (None, 128, 128, 512 0           conv2d_13[0][0]                  \n",
            "__________________________________________________________________________________________________\n",
            "conv2d_14 (Conv2D)              (None, 128, 128, 256 524544      up_sampling2d_2[0][0]            \n",
            "__________________________________________________________________________________________________\n",
            "concatenate_2 (Concatenate)     (None, 128, 128, 512 0           conv2d_6[0][0]                   \n",
            "                                                                 conv2d_14[0][0]                  \n",
            "__________________________________________________________________________________________________\n",
            "conv2d_15 (Conv2D)              (None, 128, 128, 256 1179904     concatenate_2[0][0]              \n",
            "__________________________________________________________________________________________________\n",
            "conv2d_16 (Conv2D)              (None, 128, 128, 256 590080      conv2d_15[0][0]                  \n",
            "__________________________________________________________________________________________________\n",
            "up_sampling2d_3 (UpSampling2D)  (None, 256, 256, 256 0           conv2d_16[0][0]                  \n",
            "__________________________________________________________________________________________________\n",
            "conv2d_17 (Conv2D)              (None, 256, 256, 128 131200      up_sampling2d_3[0][0]            \n",
            "__________________________________________________________________________________________________\n",
            "concatenate_3 (Concatenate)     (None, 256, 256, 256 0           conv2d_4[0][0]                   \n",
            "                                                                 conv2d_17[0][0]                  \n",
            "__________________________________________________________________________________________________\n",
            "conv2d_18 (Conv2D)              (None, 256, 256, 128 295040      concatenate_3[0][0]              \n",
            "__________________________________________________________________________________________________\n",
            "conv2d_19 (Conv2D)              (None, 256, 256, 128 147584      conv2d_18[0][0]                  \n",
            "__________________________________________________________________________________________________\n",
            "up_sampling2d_4 (UpSampling2D)  (None, 512, 512, 128 0           conv2d_19[0][0]                  \n",
            "__________________________________________________________________________________________________\n",
            "conv2d_20 (Conv2D)              (None, 512, 512, 64) 32832       up_sampling2d_4[0][0]            \n",
            "__________________________________________________________________________________________________\n",
            "concatenate_4 (Concatenate)     (None, 512, 512, 128 0           conv2d_2[0][0]                   \n",
            "                                                                 conv2d_20[0][0]                  \n",
            "__________________________________________________________________________________________________\n",
            "conv2d_21 (Conv2D)              (None, 512, 512, 64) 73792       concatenate_4[0][0]              \n",
            "__________________________________________________________________________________________________\n",
            "conv2d_22 (Conv2D)              (None, 512, 512, 64) 36928       conv2d_21[0][0]                  \n",
            "__________________________________________________________________________________________________\n",
            "conv2d_23 (Conv2D)              (None, 512, 512, 2)  1154        conv2d_22[0][0]                  \n",
            "__________________________________________________________________________________________________\n",
            "conv2d_24 (Conv2D)              (None, 512, 512, 1)  3           conv2d_23[0][0]                  \n",
            "==================================================================================================\n",
            "Total params: 31,031,685\n",
            "Trainable params: 31,031,685\n",
            "Non-trainable params: 0\n",
            "__________________________________________________________________________________________________\n"
          ]
        }
      ]
    },
    {
      "cell_type": "code",
      "metadata": {
        "id": "68fb0gZpQX29",
        "colab": {
          "base_uri": "https://localhost:8080/",
          "height": 36
        },
        "outputId": "808a15c3-9417-4f6c-a02e-c2be5da31a91"
      },
      "source": [
        "image_list[0]"
      ],
      "execution_count": null,
      "outputs": [
        {
          "output_type": "execute_result",
          "data": {
            "text/plain": [
              "'lineD16'"
            ],
            "application/vnd.google.colaboratory.intrinsic+json": {
              "type": "string"
            }
          },
          "metadata": {},
          "execution_count": 13
        }
      ]
    },
    {
      "cell_type": "code",
      "metadata": {
        "id": "bAzZUMoRYyt9",
        "colab": {
          "base_uri": "https://localhost:8080/",
          "height": 57
        },
        "outputId": "dd4566e3-be40-4461-a9f6-9f166db4856a"
      },
      "source": [
        "img=cv2.imread('/content/gdrive/MyDrive/Colab Notebooks/WordSegData2/Dataset1/img/'+image_list[0]+'.jpg',1)\n",
        "seg=cv2.imread('/content/gdrive/MyDrive/Colab Notebooks/WordSegData2/Dataset1/mask/'+image_list[0]+'_mask.png',1)\n",
        "\n",
        "visualize(img,seg, \"Original Image\", \"Mask Image\")\n"
      ],
      "execution_count": null,
      "outputs": [
        {
          "output_type": "display_data",
          "data": {
            "text/plain": [
              "<Figure size 1440x1440 with 2 Axes>"
            ],
            "image/png": "[encoded data removed]"
          },
          "metadata": {
            "needs_background": "light"
          }
        }
      ]
    },
    {
      "cell_type": "code",
      "metadata": {
        "id": "PGmooTzpDTYz",
        "colab": {
          "base_uri": "https://localhost:8080/",
          "height": 287
        },
        "outputId": "8e0ab6d3-8409-4b67-af67-52af756647bd"
      },
      "source": [
        "img,seg=next(batch_generator(file_test,2,1))\n",
        "plt.imshow(np.squeeze(seg[:,:,:,0],axis=0),cmap='gray')\n"
      ],
      "execution_count": null,
      "outputs": [
        {
          "output_type": "execute_result",
          "data": {
            "text/plain": [
              "<matplotlib.image.AxesImage at 0x7fc5ba3e3f10>"
            ]
          },
          "metadata": {},
          "execution_count": 18
        },
        {
          "output_type": "display_data",
          "data": {
            "text/plain": [
              "<Figure size 432x288 with 1 Axes>"
            ],
            "image/png": "[encoded data removed]"
          },
          "metadata": {
            "needs_background": "light"
          }
        }
      ]
    },
    {
      "cell_type": "code",
      "metadata": {
        "id": "UK2wl_KFiGeq",
        "colab": {
          "base_uri": "https://localhost:8080/"
        },
        "outputId": "592687e8-4547-4138-c817-7990b2f0f704"
      },
      "source": [
        "from keras.callbacks import ModelCheckpoint\n",
        "mc = ModelCheckpoint('weights{epoch:08d}.h5', \n",
        "                                     save_weights_only=True, period=1)\n",
        "model.fit_generator(batch_generator(file_train,2,2),epochs=5,steps_per_epoch=1000,validation_data=batch_generator(file_test,2,2),\n",
        "                    validation_steps=400,callbacks=[mc],shuffle=1)\n"
      ],
      "execution_count": null,
      "outputs": [
        {
          "metadata": {
            "tags": null
          },
          "name": "stdout",
          "output_type": "stream",
          "text": [
            "WARNING:tensorflow:From /tensorflow-1.15.2/python3.7/keras/backend/tensorflow_backend.py:422: The name tf.global_variables is deprecated. Please use tf.compat.v1.global_variables instead.\n",
            "\n"
          ]
        },
        {
          "metadata": {
            "tags": null
          },
          "name": "stderr",
          "output_type": "stream",
          "text": [
            "WARNING:tensorflow:From /tensorflow-1.15.2/python3.7/keras/backend/tensorflow_backend.py:422: The name tf.global_variables is deprecated. Please use tf.compat.v1.global_variables instead.\n",
            "\n"
          ]
        },
        {
          "output_type": "stream",
          "name": "stdout",
          "text": [
            "Epoch 1/5\n",
            "1000/1000 [==============================] - 782s 782ms/step - loss: 0.0302 - accuracy: 0.9893 - val_loss: 0.0437 - val_accuracy: 0.9960\n",
            "Epoch 2/5\n",
            "1000/1000 [==============================] - 664s 664ms/step - loss: 0.0216 - accuracy: 0.9968 - val_loss: 0.0162 - val_accuracy: 0.9969\n",
            "Epoch 3/5\n",
            "1000/1000 [==============================] - 662s 662ms/step - loss: 0.0208 - accuracy: 0.9970 - val_loss: 0.0330 - val_accuracy: 0.9935\n",
            "Epoch 4/5\n",
            "1000/1000 [==============================] - 656s 656ms/step - loss: 0.0201 - accuracy: 0.9966 - val_loss: 0.0250 - val_accuracy: 0.9971\n",
            "Epoch 5/5\n",
            "1000/1000 [==============================] - 655s 655ms/step - loss: 0.0190 - accuracy: 0.9973 - val_loss: 0.0206 - val_accuracy: 0.9973\n"
          ]
        },
        {
          "output_type": "execute_result",
          "data": {
            "text/plain": [
              "<keras.callbacks.callbacks.History at 0x7fc5b9cae3d0>"
            ]
          },
          "metadata": {},
          "execution_count": 19
        }
      ]
    },
    {
      "cell_type": "code",
      "metadata": {
        "id": "oyPHgQIEEyfv"
      },
      "source": [
        "file_test='/content/gdrive/MyDrive/Colab Notebooks/WordSegData2/Dataset1/img/lineA1.jpg'\n",
        "img=cv2.imread(f'{file_test}',0)\n",
        "img=pad_img(img)\n",
        "ret,img=cv2.threshold(img,150,255,cv2.THRESH_BINARY_INV)\n",
        "img=cv2.resize(img,(512,512))\n",
        "img=np.expand_dims(img,axis=-1)\n",
        "#img = np.stack((img,)*3, axis=-1)\n",
        "img=img/255"
      ],
      "execution_count": null,
      "outputs": []
    },
    {
      "cell_type": "code",
      "metadata": {
        "id": "D9PJsdleU9oY",
        "colab": {
          "base_uri": "https://localhost:8080/",
          "height": 286
        },
        "outputId": "496e8c46-58d5-478b-d05c-ba49bc4b70df"
      },
      "source": [
        "img=np.expand_dims(img,axis=0)\n",
        "pred=model.predict(img)\n",
        "pred=np.squeeze(np.squeeze(pred,axis=0),axis=-1)\n",
        "plt.imshow(pred,cmap='gray')"
      ],
      "execution_count": null,
      "outputs": [
        {
          "output_type": "execute_result",
          "data": {
            "text/plain": [
              "<matplotlib.image.AxesImage at 0x7faae03dd5d0>"
            ]
          },
          "metadata": {},
          "execution_count": 12
        },
        {
          "output_type": "display_data",
          "data": {
            "image/png": "[encoded data removed]",
            "text/plain": [
              "<Figure size 432x288 with 1 Axes>"
            ]
          },
          "metadata": {
            "needs_background": "light"
          }
        }
      ]
    },
    {
      "cell_type": "code",
      "metadata": {
        "id": "QkfkUVPdbezF"
      },
      "source": [
        "plt.imsave('test_img_mask.JPG',pred)"
      ],
      "execution_count": null,
      "outputs": []
    }
  ]
}